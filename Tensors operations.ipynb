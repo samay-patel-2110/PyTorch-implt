{
 "cells": [
  {
   "cell_type": "code",
   "execution_count": 2,
   "id": "11e8cfc5-e3c7-4861-bfa8-2db6b5f3d1d4",
   "metadata": {},
   "outputs": [],
   "source": [
    "import torch\n",
    "from torch import nn\n",
    "from torch import einsum"
   ]
  },
  {
   "cell_type": "code",
   "execution_count": 3,
   "id": "6bf6a0d7-fc96-47f1-901c-bb9759699551",
   "metadata": {},
   "outputs": [
    {
     "name": "stdout",
     "output_type": "stream",
     "text": [
      "tensor([[[[1., 2.],\n",
      "          [3., 4.]]]])\n"
     ]
    },
    {
     "data": {
      "text/plain": [
       "tensor([[[[ 4.,  0.,  0., -3.],\n",
       "          [ 2.,  0.,  0., -1.],\n",
       "          [ 4.,  0.,  0., -3.],\n",
       "          [ 2.,  0.,  0., -1.]]]], grad_fn=<ConvolutionBackward0>)"
      ]
     },
     "execution_count": 3,
     "metadata": {},
     "output_type": "execute_result"
    }
   ],
   "source": [
    "X = torch.tensor([[1.0, 2.0], [3.0, 4.0]])\n",
    "K = torch.tensor([[1.0, 0.0, -1.0], [1.0, 0.0, -1.0], [1.0, 0.0, -1.0]])\n",
    "X = torch.tensor([[1.0, 2.0], [3.0, 4.0]])\n",
    "\n",
    "X, K = X.reshape(1, 1, 2, 2), K.reshape(1, 1, 3, 3)\n",
    "\n",
    "print(X)\n",
    "tconv = nn.ConvTranspose2d(\n",
    "    1, 1, kernel_size=3, stride=2, padding=1, bias=False)\n",
    "tconv.weight.data = X\n",
    "tconv(K)"
   ]
  },
  {
   "cell_type": "markdown",
   "id": "13dedd1a",
   "metadata": {},
   "source": [
    "## Tensors Declaration\n"
   ]
  },
  {
   "cell_type": "code",
   "execution_count": 17,
   "id": "1fe4d99b-fe85-4527-86a3-8cb7414f8de5",
   "metadata": {},
   "outputs": [
    {
     "name": "stdout",
     "output_type": "stream",
     "text": [
      "cpu\n"
     ]
    }
   ],
   "source": [
    "X = torch.tensor([[1.0, 2.0], [3.0, 4.0]],\n",
    "                 dtype=torch.float32)\n",
    "\n",
    "print(X.device)"
   ]
  },
  {
   "cell_type": "code",
   "execution_count": 16,
   "id": "dd4b97a8",
   "metadata": {},
   "outputs": [
    {
     "name": "stdout",
     "output_type": "stream",
     "text": [
      "64.0\n"
     ]
    }
   ],
   "source": [
    "# for one dimensional tensors - Type casting\n",
    "X = torch.tensor(64)\n",
    "print(float(X))"
   ]
  },
  {
   "cell_type": "code",
   "execution_count": 5,
   "id": "4b31ace3",
   "metadata": {},
   "outputs": [
    {
     "name": "stdout",
     "output_type": "stream",
     "text": [
      "tensor([[0., 0., 0.],\n",
      "        [0., 0., 0.],\n",
      "        [0., 0., 0.]])\n"
     ]
    }
   ],
   "source": [
    "X = torch.empty(size=(3, 3))  # assigns random values\n",
    "print(X)"
   ]
  },
  {
   "cell_type": "code",
   "execution_count": 6,
   "id": "53e28616",
   "metadata": {},
   "outputs": [
    {
     "name": "stdout",
     "output_type": "stream",
     "text": [
      "tensor([[-1.0229,  0.7070,  0.7488],\n",
      "        [ 3.1215,  0.7803,  0.7066],\n",
      "        [-1.6958,  0.2624,  0.1396]])\n"
     ]
    }
   ],
   "source": [
    "X = torch.empty(size=(3, 3)).normal_(mean=0, std=1)  # assigns random values\n",
    "print(X)"
   ]
  },
  {
   "cell_type": "code",
   "execution_count": 7,
   "id": "7bf88b5b",
   "metadata": {},
   "outputs": [
    {
     "name": "stdout",
     "output_type": "stream",
     "text": [
      "tensor([[0., 0., 0.],\n",
      "        [0., 0., 0.],\n",
      "        [0., 0., 0.]])\n"
     ]
    }
   ],
   "source": [
    "X = torch.zeros(size=(3, 3))\n",
    "print(X)"
   ]
  },
  {
   "cell_type": "code",
   "execution_count": 8,
   "id": "b76f03d2",
   "metadata": {},
   "outputs": [
    {
     "name": "stdout",
     "output_type": "stream",
     "text": [
      "tensor([[0.4541, 0.1009, 0.2872],\n",
      "        [0.5071, 0.7963, 0.8843],\n",
      "        [0.5211, 0.7253, 0.1685]])\n"
     ]
    }
   ],
   "source": [
    "X = torch.rand(size=(3, 3))  # Displays uniform distribution\n",
    "print(X)"
   ]
  },
  {
   "cell_type": "code",
   "execution_count": 9,
   "id": "8076b90f",
   "metadata": {},
   "outputs": [
    {
     "name": "stdout",
     "output_type": "stream",
     "text": [
      "tensor([[1., 1., 1.],\n",
      "        [1., 1., 1.],\n",
      "        [1., 1., 1.]])\n"
     ]
    }
   ],
   "source": [
    "X = torch.ones(size=(3, 3))\n",
    "print(X)"
   ]
  },
  {
   "cell_type": "code",
   "execution_count": 10,
   "id": "9670c71c",
   "metadata": {},
   "outputs": [
    {
     "name": "stdout",
     "output_type": "stream",
     "text": [
      "tensor([[1., 0., 0.],\n",
      "        [0., 1., 0.],\n",
      "        [0., 0., 1.]])\n"
     ]
    }
   ],
   "source": [
    "X = torch.eye(3, 3)  # Identiy matrix\n",
    "print(X)"
   ]
  },
  {
   "cell_type": "code",
   "execution_count": 11,
   "id": "65d650be",
   "metadata": {},
   "outputs": [
    {
     "name": "stdout",
     "output_type": "stream",
     "text": [
      "tensor([0, 1, 2, 3, 4])\n"
     ]
    }
   ],
   "source": [
    "# starts with 0 and ends at 4 (5 is excluded)\n",
    "X = torch.arange(start=0, end=5, step=1)\n",
    "print(X)"
   ]
  },
  {
   "cell_type": "code",
   "execution_count": 12,
   "id": "fd8f8e8e",
   "metadata": {},
   "outputs": [
    {
     "name": "stdout",
     "output_type": "stream",
     "text": [
      "tensor([0.2000, 0.2889, 0.3778, 0.4667, 0.5556, 0.6444, 0.7333, 0.8222, 0.9111,\n",
      "        1.0000])\n"
     ]
    }
   ],
   "source": [
    "# starts with 0.1 and adds a number to reach 1 after 10 steps\n",
    "X = torch.linspace(start=0.2, end=1, steps=10)\n",
    "print(X)"
   ]
  },
  {
   "cell_type": "code",
   "execution_count": 13,
   "id": "cf27a21c",
   "metadata": {},
   "outputs": [
    {
     "name": "stdout",
     "output_type": "stream",
     "text": [
      "tensor([[1., 0., 0.],\n",
      "        [0., 1., 0.],\n",
      "        [0., 0., 1.]])\n"
     ]
    }
   ],
   "source": [
    "# starts with 0.1 and adds a number to reach 1 after 10 steps\n",
    "X = torch.diag(torch.ones(3))\n",
    "print(X)"
   ]
  },
  {
   "cell_type": "code",
   "execution_count": 14,
   "id": "da493374",
   "metadata": {},
   "outputs": [
    {
     "name": "stdout",
     "output_type": "stream",
     "text": [
      "torch.int64\n",
      "tensor([False,  True,  True,  True])\n",
      "tensor([0, 1, 2, 3], dtype=torch.int16)\n",
      "tensor([0., 1., 2., 3.], dtype=torch.float16)\n",
      "torch.float32\n"
     ]
    },
    {
     "ename": "ValueError",
     "evalue": "only one element tensors can be converted to Python scalars",
     "output_type": "error",
     "traceback": [
      "\u001b[0;31m---------------------------------------------------------------------------\u001b[0m",
      "\u001b[0;31mValueError\u001b[0m                                Traceback (most recent call last)",
      "Cell \u001b[0;32mIn[14], line 7\u001b[0m\n\u001b[1;32m      5\u001b[0m \u001b[39mprint\u001b[39m(X\u001b[39m.\u001b[39mhalf())\n\u001b[1;32m      6\u001b[0m \u001b[39mprint\u001b[39m(X\u001b[39m.\u001b[39mfloat()\u001b[39m.\u001b[39mdtype)\n\u001b[0;32m----> 7\u001b[0m \u001b[39mprint\u001b[39m(\u001b[39mfloat\u001b[39m(X))\n",
      "\u001b[0;31mValueError\u001b[0m: only one element tensors can be converted to Python scalars"
     ]
    }
   ],
   "source": [
    "X = torch.arange(4)  # Type Casting\n",
    "print(X.dtype)\n",
    "print(X.bool())\n",
    "print(X.short())\n",
    "print(X.half())\n",
    "print(X.float().dtype)"
   ]
  },
  {
   "cell_type": "code",
   "execution_count": 126,
   "id": "c11d1baa",
   "metadata": {},
   "outputs": [
    {
     "name": "stdout",
     "output_type": "stream",
     "text": [
      "float64\n",
      "torch.float64\n",
      "float64\n"
     ]
    }
   ],
   "source": [
    "import numpy as np\n",
    "\n",
    "X = np.zeros((5, 5))\n",
    "print(X.dtype)\n",
    "\n",
    "Y = torch.from_numpy(X)  # Convert np array to torch tensor\n",
    "print(Y.dtype)\n",
    "\n",
    "X = Y.numpy()  # Convert back to np array\n",
    "print(X.dtype)"
   ]
  },
  {
   "cell_type": "markdown",
   "id": "d2c55ae5",
   "metadata": {},
   "source": [
    "## Tensors Operations"
   ]
  },
  {
   "cell_type": "code",
   "execution_count": 127,
   "id": "9ec950b9",
   "metadata": {},
   "outputs": [
    {
     "name": "stdout",
     "output_type": "stream",
     "text": [
      "tensor([10, 10, 10])\n"
     ]
    }
   ],
   "source": [
    "X = torch.tensor([1, 2, 3])\n",
    "Y = torch.tensor([9, 8, 7])\n",
    "\n",
    "# addition\n",
    "z1 = torch.add(X, Y)\n",
    "z1 = X + Y\n",
    "print(z1)"
   ]
  },
  {
   "cell_type": "code",
   "execution_count": 128,
   "id": "2d976a66",
   "metadata": {},
   "outputs": [
    {
     "name": "stdout",
     "output_type": "stream",
     "text": [
      "tensor([0.1111, 0.2500, 0.4286])\n",
      "tensor([0.5000, 1.0000, 1.5000])\n"
     ]
    }
   ],
   "source": [
    "# Division\n",
    "z1 = torch.true_divide(X, Y)  # Element wise division if of equal shape\n",
    "print(z1)\n",
    "z1 = torch.true_divide(X, 2)  # Divides all element by 2\n",
    "print(z1)"
   ]
  },
  {
   "cell_type": "code",
   "execution_count": 129,
   "id": "8225b9a7",
   "metadata": {},
   "outputs": [
    {
     "name": "stdout",
     "output_type": "stream",
     "text": [
      "tensor([10, 10, 10])\n",
      "tensor([19, 18, 17])\n"
     ]
    }
   ],
   "source": [
    "# inplace operation (usually denoted by _)\n",
    "# Basically Doesnt create a copy in another variable as to use less number of variable\n",
    "X.add_(Y)\n",
    "print(X)\n",
    "X += Y\n",
    "print(X)"
   ]
  },
  {
   "cell_type": "code",
   "execution_count": 130,
   "id": "620064de",
   "metadata": {},
   "outputs": [
    {
     "name": "stdout",
     "output_type": "stream",
     "text": [
      "tensor([361, 324, 289])\n"
     ]
    }
   ],
   "source": [
    "# Power\n",
    "z1 = X.pow(2)  # all elements to the power of 2\n",
    "z1 = X ** 2\n",
    "print(z1)"
   ]
  },
  {
   "cell_type": "code",
   "execution_count": 131,
   "id": "5c8f7da9",
   "metadata": {},
   "outputs": [
    {
     "name": "stdout",
     "output_type": "stream",
     "text": [
      "tensor([True, True, True])\n"
     ]
    }
   ],
   "source": [
    "# comparision\n",
    "print(z1 < 1157)"
   ]
  },
  {
   "cell_type": "code",
   "execution_count": 132,
   "id": "40e8cff0",
   "metadata": {},
   "outputs": [
    {
     "name": "stdout",
     "output_type": "stream",
     "text": [
      "tensor([[1.2152, 0.6485, 0.6283],\n",
      "        [1.2336, 0.5148, 0.5162]])\n",
      "torch.Size([2, 3])\n",
      "tensor([[1.2152, 0.6485, 0.6283],\n",
      "        [1.2336, 0.5148, 0.5162]])\n"
     ]
    }
   ],
   "source": [
    "# Matrix Multiplication\n",
    "a = torch.rand((2, 5))\n",
    "b = torch.rand((5, 3))\n",
    "\n",
    "print(torch.mm(a, b))\n",
    "print(torch.mm(a, b).shape)\n",
    "\n",
    "print(a.mm(b))"
   ]
  },
  {
   "cell_type": "code",
   "execution_count": 133,
   "id": "9530dea0",
   "metadata": {},
   "outputs": [
    {
     "name": "stdout",
     "output_type": "stream",
     "text": [
      "tensor([[0.0513, 0.1789, 0.3580, 0.0205, 0.0071],\n",
      "        [0.0958, 0.0217, 0.2897, 0.4585, 0.0518]])\n"
     ]
    }
   ],
   "source": [
    "# Element wise multiplication\n",
    "a = torch.rand((2, 5))\n",
    "b = torch.rand((2, 5))\n",
    "\n",
    "print(a * b)"
   ]
  },
  {
   "cell_type": "code",
   "execution_count": 134,
   "id": "2bb707d6",
   "metadata": {},
   "outputs": [
    {
     "name": "stdout",
     "output_type": "stream",
     "text": [
      "tensor(0.9823)\n"
     ]
    }
   ],
   "source": [
    "# dot product = ELement wise multiplication then sum (Only 1D Array)\n",
    "a = torch.rand(5)\n",
    "b = torch.rand(5)\n",
    "print(torch.dot(a, b))"
   ]
  },
  {
   "cell_type": "code",
   "execution_count": 135,
   "id": "ed2071c1",
   "metadata": {},
   "outputs": [
    {
     "name": "stdout",
     "output_type": "stream",
     "text": [
      "tensor([[2.3579, 4.1605, 3.3399, 3.4240, 3.4652],\n",
      "        [3.3910, 6.0421, 4.7199, 4.7983, 4.8417],\n",
      "        [3.5168, 6.2590, 4.9210, 5.0267, 5.0451],\n",
      "        [2.9576, 5.1224, 3.9391, 3.7588, 4.0440],\n",
      "        [2.5569, 4.1776, 3.0895, 2.8500, 3.0864]])\n"
     ]
    }
   ],
   "source": [
    "# matrix power\n",
    "a = torch.rand((5, 5))\n",
    "print(a.matrix_power(3))"
   ]
  },
  {
   "cell_type": "code",
   "execution_count": 136,
   "id": "ae036965",
   "metadata": {},
   "outputs": [
    {
     "name": "stdout",
     "output_type": "stream",
     "text": [
      "tensor([[ 51.9690,  74.7366],\n",
      "        [112.1049, 164.0738]])\n"
     ]
    }
   ],
   "source": [
    "# Lineaer algebra type power of matrix\n",
    "x = torch.tensor([[1, 2], [3, 4]], dtype=torch.float32)\n",
    "print(x.matrix_exp())"
   ]
  },
  {
   "cell_type": "code",
   "execution_count": 137,
   "id": "62013737",
   "metadata": {},
   "outputs": [
    {
     "name": "stdout",
     "output_type": "stream",
     "text": [
      "torch.Size([32, 10, 30])\n"
     ]
    }
   ],
   "source": [
    "# Batch Matrix multi\n",
    "batch = 32\n",
    "n = 10\n",
    "p = 20\n",
    "d = 30\n",
    "\n",
    "a = torch.rand((batch, n, p))\n",
    "b = torch.rand((batch, p, d))\n",
    "\n",
    "batch_mult = torch.bmm(a, b)  # shape (batch, n , d)\n",
    "print(batch_mult.shape)"
   ]
  },
  {
   "cell_type": "code",
   "execution_count": 138,
   "id": "c5b549cb",
   "metadata": {},
   "outputs": [
    {
     "name": "stdout",
     "output_type": "stream",
     "text": [
      "sum across dim 0 :\n",
      "tensor([6, 8])\n",
      "tensor([[True, True],\n",
      "        [True, True]])\n"
     ]
    }
   ],
   "source": [
    "x = torch.tensor([[2, 3],\n",
    "                  [4, 5]])\n",
    "y = torch.tensor([[2, 3],\n",
    "                  [4, 5]])\n",
    "\n",
    "sum_x = torch.sum(x, dim=0)\n",
    "print('sum across dim 0 :')\n",
    "print(sum_x)\n",
    "\n",
    "values, indices = torch.max(x, dim=0)\n",
    "values, indices = torch.min(x, dim=0)\n",
    "abs_x = torch.abs(x)\n",
    "\n",
    "# Returns indices of max value from the given dimension\n",
    "z = torch.argmax(x, dim=0)\n",
    "z = torch.argmin(x, dim=0)\n",
    "\n",
    "# For this operation, matrix needs to be in float\n",
    "mean_x = torch.mean(x.float(), dim=0)\n",
    "\n",
    "z = torch.eq(x, y)  # Element wise equality check\n",
    "print(z)"
   ]
  },
  {
   "cell_type": "code",
   "execution_count": 139,
   "id": "c9522f9b",
   "metadata": {},
   "outputs": [
    {
     "data": {
      "text/plain": [
       "torch.return_types.sort(\n",
       "values=tensor([[3, 2],\n",
       "        [5, 4]]),\n",
       "indices=tensor([[1, 0],\n",
       "        [1, 0]]))"
      ]
     },
     "execution_count": 139,
     "metadata": {},
     "output_type": "execute_result"
    }
   ],
   "source": [
    "torch.sort(y, dim=1, descending=True)  # sort across dimensions"
   ]
  },
  {
   "cell_type": "code",
   "execution_count": 140,
   "id": "c9fd435e",
   "metadata": {},
   "outputs": [
    {
     "data": {
      "text/plain": [
       "tensor([[3, 3],\n",
       "        [4, 4]])"
      ]
     },
     "execution_count": 140,
     "metadata": {},
     "output_type": "execute_result"
    }
   ],
   "source": [
    "# any value less than 0 and greater than 4 is set to Min and Max respectively\n",
    "torch.clamp(x, min=3, max=4)"
   ]
  },
  {
   "cell_type": "code",
   "execution_count": 141,
   "id": "5b2bc614",
   "metadata": {},
   "outputs": [
    {
     "name": "stdout",
     "output_type": "stream",
     "text": [
      "tensor(False)\n",
      "tensor(True)\n"
     ]
    }
   ],
   "source": [
    "x = torch.tensor([0, 1, 1, 1, 1, 0], dtype=torch.bool)\n",
    "\n",
    "print(torch.all(x))  # AND gate\n",
    "print(torch.any(x))  # OR gate"
   ]
  },
  {
   "cell_type": "code",
   "execution_count": 6,
   "id": "99a87f49",
   "metadata": {},
   "outputs": [
    {
     "name": "stdout",
     "output_type": "stream",
     "text": [
      "torch.Size([10, 3, 3, 2])\n"
     ]
    }
   ],
   "source": [
    "B = torch.randn((10, 3, 5, 3))\n",
    "A = torch.randn((10, 3, 5, 2))\n",
    "\n",
    "# let A be (b,i,j,k)\n",
    "# B will be (b,i,j,m)\n",
    "# if B transpose is (b,i,m,j)\n",
    "# then final result will be (bimj)*(bijk) = (b,i,m,k)\n",
    "\n",
    "final = einsum(\"bijm, bijk -> bimk\", B, A)\n",
    "print(final.shape)"
   ]
  },
  {
   "cell_type": "markdown",
   "id": "ebdc5f39",
   "metadata": {},
   "source": [
    "# Indexing Tensors"
   ]
  },
  {
   "cell_type": "code",
   "execution_count": 142,
   "id": "49b4bd69",
   "metadata": {},
   "outputs": [
    {
     "name": "stdout",
     "output_type": "stream",
     "text": [
      "tensor([0, 1, 2, 3, 4, 5, 6])\n",
      "torch.Size([10, 20])\n",
      "torch.Size([20])\n",
      "torch.Size([10])\n",
      "torch.Size([0, 20])\n"
     ]
    }
   ],
   "source": [
    "x = torch.tensor([0, 1, 2, 3, 4, 5, 6, 7])\n",
    "print(x[0:7])  # 0 -> 6\n",
    "\n",
    "x = torch.rand((10, 20))  # imagine 10 days and for each 20 orders\n",
    "print(x.shape)\n",
    "\n",
    "print(x[0].shape)  # all orders of 1th day\n",
    "# this reduces the dimension to 1D\n",
    "\n",
    "print(x[0][10:20].shape)  # from 1st day, orders number 10 to 19\n",
    "# This reduces the dimension to 1D\n",
    "\n",
    "print(x[0:1][10:20].shape)  # from 1st day, orders number 10 to 19\n",
    "# This maintains the dimensions"
   ]
  },
  {
   "cell_type": "code",
   "execution_count": 144,
   "id": "54ad114d",
   "metadata": {},
   "outputs": [
    {
     "name": "stdout",
     "output_type": "stream",
     "text": [
      "tensor([3, 6])\n",
      "tensor([ 0,  1,  2, 11, 12, 13, 14, 15])\n",
      "tensor([ 0,  2,  4,  6,  8, 10, 12, 14])\n",
      "tensor([[ 0,  1,  2,  3],\n",
      "        [ 4, 10, 12, 14],\n",
      "        [16, 18, 20, 22],\n",
      "        [24, 26, 28, 30]])\n",
      "2\n"
     ]
    }
   ],
   "source": [
    "x = torch.tensor([[0, 1, 2, 3],\n",
    "                  [4, 5, 6, 7],\n",
    "                  [8, 9, 10, 11],\n",
    "                  [12, 13, 14, 15]])\n",
    "\n",
    "print(x[[0, 1], [3, 2]])  # element [0,3] and [1,2]\n",
    "print(x[(x < 3) | (x > 10)])  # pick out elements in array < 3 and > 10\n",
    "print(x[x.remainder(2) == 0])  # pritn all even number\n",
    "print(torch.where(x < 5, x, x*2))  # if x>5 set value to x else return x*2\n",
    "print(x.ndimension())  # tells us the highest dimension\n",
    "print(x.numel())  # Count number of element in x"
   ]
  },
  {
   "cell_type": "markdown",
   "id": "9d27c058",
   "metadata": {},
   "source": [
    "# Tensor Shape"
   ]
  },
  {
   "cell_type": "code",
   "execution_count": null,
   "id": "9ca78d08",
   "metadata": {},
   "outputs": [],
   "source": [
    "x = torch.arrange(9)\n",
    "print(x.size(0))  # to get value of any one dimension\n",
    "print(x.shape)  # to get shape of teh tensor"
   ]
  },
  {
   "cell_type": "code",
   "execution_count": 151,
   "id": "ed6c6fae",
   "metadata": {},
   "outputs": [
    {
     "name": "stdout",
     "output_type": "stream",
     "text": [
      "tensor([0, 1, 2, 3, 4, 5, 6, 7, 8])\n",
      "tensor([[0, 1, 2],\n",
      "        [3, 4, 5],\n",
      "        [6, 7, 8]])\n",
      "tensor([[0, 3, 6],\n",
      "        [1, 4, 7],\n",
      "        [2, 5, 8]])\n",
      "tensor([0, 3, 6, 1, 4, 7, 2, 5, 8])\n",
      "tensor([0, 3, 6, 1, 4, 7, 2, 5, 8])\n"
     ]
    }
   ],
   "source": [
    "x = torch.arange(9)\n",
    "print(x)\n",
    "\n",
    "# 3x3 = 9, This condition musdt match\n",
    "x_3x3 = x.view(3, 3)\n",
    "x_3x3 = x.reshape(3, 3)  # Best option\n",
    "print(x_3x3)\n",
    "\n",
    "x = x_3x3.t()  # Transpose\n",
    "print(x)\n",
    "\n",
    "# contiguous is required to make teh subspace in same space\n",
    "print(x.contiguous().view(9))\n",
    "\n",
    "x_3x3 = x.reshape(9)  # Best option\n",
    "print(x_3x3)"
   ]
  },
  {
   "cell_type": "code",
   "execution_count": 165,
   "id": "b0c4da90",
   "metadata": {},
   "outputs": [
    {
     "name": "stdout",
     "output_type": "stream",
     "text": [
      "torch.Size([10, 5, 2])\n",
      "torch.Size([10, 2, 5])\n"
     ]
    }
   ],
   "source": [
    "# change shape manually\n",
    "print(x.shape)\n",
    "x = x.permute(0, 2, 1)  # at 0th dimension keep dimension at 0th index\n",
    "# at 1st dimension keep dimension at 2nd index\n",
    "# at 2nd dimension keep dimension at 1st index\n",
    "print(x.shape)\n",
    "# Transpose as a special case"
   ]
  },
  {
   "cell_type": "code",
   "execution_count": 186,
   "id": "e216a904",
   "metadata": {},
   "outputs": [
    {
     "name": "stdout",
     "output_type": "stream",
     "text": [
      "torch.Size([1, 10, 2])\n",
      "torch.Size([10, 1, 2])\n",
      "torch.Size([1, 10, 1, 2])\n",
      "torch.Size([10, 2])\n",
      "torch.Size([1, 10, 2])\n"
     ]
    }
   ],
   "source": [
    "# Sqeeuze and Unsqueeze - add or remove dimensions\n",
    "x = torch.randn(10, 2)\n",
    "\n",
    "print(x.unsqueeze(0).shape)  # unsqueeze along dim 0\n",
    "print(x.unsqueeze(1).shape)  # along dimension 1\n",
    "# add dimension along 0 and 2nd dimension\n",
    "print(x.unsqueeze(0).unsqueeze(2).shape)\n",
    "\n",
    "z = torch.randn(1, 10, 2)\n",
    "print(z.squeeze(0).shape)\n",
    "# we need 1 along that particular dimension for squeeze\n",
    "print(z.squeeze(1).shape)\n",
    "# hence, in the output nothing changed"
   ]
  },
  {
   "cell_type": "markdown",
   "id": "44494070",
   "metadata": {},
   "source": [
    "Till now we were manipulating dimension \n",
    "Now we will manipulates dimension values"
   ]
  },
  {
   "cell_type": "code",
   "execution_count": 166,
   "id": "b5c42c26",
   "metadata": {},
   "outputs": [
    {
     "name": "stdout",
     "output_type": "stream",
     "text": [
      "torch.Size([4, 5])\n"
     ]
    }
   ],
   "source": [
    "# Concatenate - Stack 2 matrix wiht each other\n",
    "\n",
    "x = torch.rand((2, 5))\n",
    "y = torch.rand((2, 5))\n",
    "\n",
    "print(torch.cat((x, y), dim=0).shape)"
   ]
  },
  {
   "cell_type": "code",
   "execution_count": 167,
   "id": "53bd8a50",
   "metadata": {},
   "outputs": [
    {
     "name": "stdout",
     "output_type": "stream",
     "text": [
      "torch.Size([10])\n",
      "torch.Size([100])\n",
      "torch.Size([10, 10])\n"
     ]
    }
   ],
   "source": [
    "# Flatten\n",
    "print(x.view(-1).shape)  # -1 is going to convert the array into flatten form\n",
    "\n",
    "batch = 10\n",
    "x = torch.rand((batch, 2, 5))\n",
    "print(x.view(-1).shape)  # flatten the whole thing\n",
    "print(x.view(batch, -1).shape)  # Keep batch dimension and rest of them flatten"
   ]
  },
  {
   "cell_type": "code",
   "execution_count": null,
   "id": "5096445f",
   "metadata": {},
   "outputs": [],
   "source": [
    "# example of how view works for Batched Images\n",
    "x = torch.tensor([[2, 2, 2], [1, 1, 1]])\n",
    "x = x.view(2, 3, 1, 1)\n",
    "\n",
    "y = torch.tensor([[[[1, 2, 3],\n",
    "                 [5, 6, 7],\n",
    "                 [8, 9, 0]],\n",
    "    [[1, 2, 3],\n",
    "     [5, 6, 7],\n",
    "     [8, 9, 0]],\n",
    "    [[1, 2, 3],\n",
    "     [5, 6, 7],\n",
    "     [8, 9, 0]]],\n",
    "    [[[1, 2, 3],\n",
    "      [5, 6, 7],\n",
    "      [8, 9, 0]],\n",
    "     [[1, 2, 3],\n",
    "     [5, 6, 7],\n",
    "     [8, 9, 0]],\n",
    "     [[1, 2, 3],\n",
    "     [5, 6, 7],\n",
    "     [8, 9, 0]]]])\n",
    "\n",
    "z = x*y\n",
    "z"
   ]
  }
 ],
 "metadata": {
  "kernelspec": {
   "display_name": "Python 3 (ipykernel)",
   "language": "python",
   "name": "python3"
  },
  "language_info": {
   "codemirror_mode": {
    "name": "ipython",
    "version": 3
   },
   "file_extension": ".py",
   "mimetype": "text/x-python",
   "name": "python",
   "nbconvert_exporter": "python",
   "pygments_lexer": "ipython3",
   "version": "3.11.4"
  }
 },
 "nbformat": 4,
 "nbformat_minor": 5
}
